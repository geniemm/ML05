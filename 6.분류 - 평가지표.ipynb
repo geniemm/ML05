{
 "cells": [
  {
   "cell_type": "markdown",
   "id": "2886150b",
   "metadata": {},
   "source": [
    "### Classification Metric\n",
    "* Metric : 학습을 통해 목표를 얼마나 잘(못) 달성했는지를 나타내는 값을 척도(metric)라고 합니다\n",
    "    - Accuracy(정확도)\n",
    "        * 전체 샘플 중 맞게 예측한 샘플 수의 비율\n",
    "    - Recall(재현율)\n",
    "        * 양성 샘플을 양성으로 맞춘 비율과 양성을 음성으로 잘못 예측한 비율\n",
    "        * 실제 음성을 양성으로 잘못 맞춰도 재현율은 떨어지지 않는다\n",
    "    - Precision(정밀도)\n",
    "        * 양성이라고 예측한 값의 비례하는 실제 값이 양성인 비율\n",
    "        * 음성을 양성으로 잘못 판단하면 정밀도는 떨어진다\n",
    "    - F1 - score\n",
    "        * Reacll과 Precision의 조화평균"
   ]
  },
  {
   "cell_type": "markdown",
   "id": "bee53d8d",
   "metadata": {},
   "source": [
    "* 평가 지표 선택\n",
    "* Accuracy(정확도) : label값이 균등할 경우\n",
    "* F1 - score : label 값이 불 균등할 경우"
   ]
  },
  {
   "cell_type": "code",
   "execution_count": 23,
   "id": "7cf433bd",
   "metadata": {},
   "outputs": [],
   "source": [
    "y_test = [0,1,1,0,0,0,1,1,1,1] #실제 정답\n",
    "y_pred = [1,0,0,0,0,0,1,1,1,1]  #예측 정답"
   ]
  },
  {
   "cell_type": "code",
   "execution_count": 24,
   "id": "ec8e017f",
   "metadata": {},
   "outputs": [
    {
     "data": {
      "text/plain": [
       "0.7"
      ]
     },
     "execution_count": 24,
     "metadata": {},
     "output_type": "execute_result"
    }
   ],
   "source": [
    "from sklearn.metrics import accuracy_score\n",
    "accuracy_score(y_test, y_pred)"
   ]
  },
  {
   "cell_type": "code",
   "execution_count": 25,
   "id": "7b77ed04",
   "metadata": {},
   "outputs": [],
   "source": [
    "y_test = [1,1,0,1,1,1,1,1,1,1] #실제 정답\n",
    "y_pred = [0,1,1,1,1,1,1,1,1,1] #예측 정답"
   ]
  },
  {
   "cell_type": "code",
   "execution_count": 26,
   "id": "6f89be31",
   "metadata": {},
   "outputs": [
    {
     "data": {
      "text/plain": [
       "0.8"
      ]
     },
     "execution_count": 26,
     "metadata": {},
     "output_type": "execute_result"
    }
   ],
   "source": [
    "accuracy_score(y_test,y_pred)"
   ]
  },
  {
   "cell_type": "markdown",
   "id": "87db012b",
   "metadata": {},
   "source": [
    "### 재현율(recall)\n",
    "* 양성(1) 이 중요한 경우"
   ]
  },
  {
   "cell_type": "code",
   "execution_count": 27,
   "id": "c5c328bb",
   "metadata": {},
   "outputs": [],
   "source": [
    "y_test = [0,0,0,1,1,1,1,1,1,1] #실제정답\n",
    "y_pred = [1,1,1,1,1,1,1,1,1,1] #예측 정답"
   ]
  },
  {
   "cell_type": "code",
   "execution_count": 28,
   "id": "a0bb627e",
   "metadata": {},
   "outputs": [
    {
     "data": {
      "text/plain": [
       "1.0"
      ]
     },
     "execution_count": 28,
     "metadata": {},
     "output_type": "execute_result"
    }
   ],
   "source": [
    "from sklearn.metrics import recall_score\n",
    "recall_score(y_test, y_pred)"
   ]
  },
  {
   "cell_type": "code",
   "execution_count": 29,
   "id": "67ded096",
   "metadata": {},
   "outputs": [],
   "source": [
    "y_test = [1,1,1,1,1,1,1,1,1,1] #실제정답\n",
    "y_pred = [0,0,0,1,1,1,1,1,1,1] #예측 정답"
   ]
  },
  {
   "cell_type": "code",
   "execution_count": 30,
   "id": "fcc02483",
   "metadata": {},
   "outputs": [
    {
     "data": {
      "text/plain": [
       "0.7"
      ]
     },
     "execution_count": 30,
     "metadata": {},
     "output_type": "execute_result"
    }
   ],
   "source": [
    "recall_score(y_test, y_pred)"
   ]
  },
  {
   "cell_type": "markdown",
   "id": "8fcd15d4",
   "metadata": {},
   "source": [
    "* 스팸 : 1, 정상: 0"
   ]
  },
  {
   "cell_type": "code",
   "execution_count": 31,
   "id": "56559dc6",
   "metadata": {},
   "outputs": [],
   "source": [
    "y_test = [1,1,1,1,1,1,1,1,1,1] #실제정답\n",
    "y_pred = [0,0,0,1,1,1,1,1,1,1] #예측 정답"
   ]
  },
  {
   "cell_type": "code",
   "execution_count": 32,
   "id": "b907030b",
   "metadata": {},
   "outputs": [
    {
     "data": {
      "text/plain": [
       "0.7"
      ]
     },
     "execution_count": 32,
     "metadata": {},
     "output_type": "execute_result"
    }
   ],
   "source": [
    "recall_score(y_test, y_pred)"
   ]
  },
  {
   "cell_type": "code",
   "execution_count": 33,
   "id": "641bca81",
   "metadata": {},
   "outputs": [],
   "source": [
    "y_test = [0,0,0,1,1,1,1,1,1,1] #실제정답\n",
    "y_pred = [1,1,1,1,1,1,1,1,1,1] #예측 정답"
   ]
  },
  {
   "cell_type": "code",
   "execution_count": 34,
   "id": "672012e4",
   "metadata": {},
   "outputs": [
    {
     "data": {
      "text/plain": [
       "1.0"
      ]
     },
     "execution_count": 34,
     "metadata": {},
     "output_type": "execute_result"
    }
   ],
   "source": [
    "recall_score(y_test, y_pred)"
   ]
  },
  {
   "cell_type": "markdown",
   "id": "7507d09b",
   "metadata": {},
   "source": [
    "* 정밀도(precision)\n",
    "    - 실제 음성을 못맞추는 경우"
   ]
  },
  {
   "cell_type": "code",
   "execution_count": 35,
   "id": "616e3661",
   "metadata": {},
   "outputs": [],
   "source": [
    "y_test = [1,1,1,1,1,1,1,1,1,1] #실제정답\n",
    "y_pred = [0,0,0,1,1,1,1,1,1,1] #예측 정답"
   ]
  },
  {
   "cell_type": "code",
   "execution_count": 36,
   "id": "21f0944b",
   "metadata": {},
   "outputs": [
    {
     "data": {
      "text/plain": [
       "1.0"
      ]
     },
     "execution_count": 36,
     "metadata": {},
     "output_type": "execute_result"
    }
   ],
   "source": [
    "from sklearn.metrics import precision_score\n",
    "precision_score(y_test, y_pred)"
   ]
  },
  {
   "cell_type": "code",
   "execution_count": 37,
   "id": "1d8dfd32",
   "metadata": {},
   "outputs": [],
   "source": [
    "y_test = [0,0,0,1,1,1,1,1,1,1] #실제정답\n",
    "y_pred = [1,1,1,1,1,1,1,1,1,1] #예측 정답"
   ]
  },
  {
   "cell_type": "code",
   "execution_count": 38,
   "id": "10ad15bd",
   "metadata": {},
   "outputs": [
    {
     "data": {
      "text/plain": [
       "0.7"
      ]
     },
     "execution_count": 38,
     "metadata": {},
     "output_type": "execute_result"
    }
   ],
   "source": [
    "precision_score(y_test, y_pred)"
   ]
  },
  {
   "cell_type": "markdown",
   "id": "e52f4e6a",
   "metadata": {},
   "source": [
    "* f1_score\n",
    "    - 정밀도와 재현율의 조화 평균\n",
    "    - label값이 불균등 할 경우 사용"
   ]
  },
  {
   "cell_type": "code",
   "execution_count": 39,
   "id": "d81f9af4",
   "metadata": {},
   "outputs": [
    {
     "name": "stdout",
     "output_type": "stream",
     "text": [
      "정확도 : 0.7\n",
      "recall(재현율) :  1.0\n",
      "precision(정밀도) :  0.7\n",
      "f1 :  0.8235294117647058\n"
     ]
    }
   ],
   "source": [
    "from sklearn.metrics import f1_score\n",
    "\n",
    "accuracy= accuracy_score(y_test,y_pred)\n",
    "recall= recall_score(y_test,y_pred)\n",
    "precision= precision_score(y_test, y_pred)\n",
    "f1 = f1_score(y_test, y_pred)\n",
    "\n",
    "print(\"정확도 :\" , accuracy)\n",
    "print(\"recall(재현율) : \" , recall)\n",
    "print(\"precision(정밀도) : \" , precision)\n",
    "print(\"f1 : \",f1)\n"
   ]
  },
  {
   "cell_type": "code",
   "execution_count": null,
   "id": "4067336e",
   "metadata": {},
   "outputs": [],
   "source": []
  },
  {
   "cell_type": "code",
   "execution_count": null,
   "id": "38821dfb",
   "metadata": {},
   "outputs": [],
   "source": []
  },
  {
   "cell_type": "code",
   "execution_count": null,
   "id": "4c4d3734",
   "metadata": {},
   "outputs": [],
   "source": []
  },
  {
   "cell_type": "code",
   "execution_count": null,
   "id": "fafec967",
   "metadata": {},
   "outputs": [],
   "source": []
  },
  {
   "cell_type": "code",
   "execution_count": null,
   "id": "f59043c5",
   "metadata": {},
   "outputs": [],
   "source": []
  },
  {
   "cell_type": "code",
   "execution_count": null,
   "id": "612d215a",
   "metadata": {},
   "outputs": [],
   "source": []
  },
  {
   "cell_type": "code",
   "execution_count": null,
   "id": "75d2a1b4",
   "metadata": {},
   "outputs": [],
   "source": []
  },
  {
   "cell_type": "code",
   "execution_count": null,
   "id": "577be502",
   "metadata": {},
   "outputs": [],
   "source": []
  },
  {
   "cell_type": "code",
   "execution_count": null,
   "id": "2cc6e54b",
   "metadata": {},
   "outputs": [],
   "source": []
  },
  {
   "cell_type": "code",
   "execution_count": null,
   "id": "8a0c0a6a",
   "metadata": {},
   "outputs": [],
   "source": []
  },
  {
   "cell_type": "code",
   "execution_count": null,
   "id": "aaf0aeb1",
   "metadata": {},
   "outputs": [],
   "source": []
  },
  {
   "cell_type": "code",
   "execution_count": null,
   "id": "4194d592",
   "metadata": {},
   "outputs": [],
   "source": []
  },
  {
   "cell_type": "code",
   "execution_count": null,
   "id": "72176d56",
   "metadata": {},
   "outputs": [],
   "source": []
  },
  {
   "cell_type": "code",
   "execution_count": null,
   "id": "fd95650a",
   "metadata": {},
   "outputs": [],
   "source": []
  },
  {
   "cell_type": "code",
   "execution_count": null,
   "id": "57315d3b",
   "metadata": {},
   "outputs": [],
   "source": []
  },
  {
   "cell_type": "code",
   "execution_count": null,
   "id": "af2ea81b",
   "metadata": {},
   "outputs": [],
   "source": []
  },
  {
   "cell_type": "code",
   "execution_count": null,
   "id": "16f5ef9a",
   "metadata": {},
   "outputs": [],
   "source": []
  },
  {
   "cell_type": "code",
   "execution_count": null,
   "id": "bbb280c1",
   "metadata": {},
   "outputs": [],
   "source": []
  },
  {
   "cell_type": "code",
   "execution_count": null,
   "id": "5f921f7b",
   "metadata": {},
   "outputs": [],
   "source": []
  }
 ],
 "metadata": {
  "kernelspec": {
   "display_name": "Python 3 (ipykernel)",
   "language": "python",
   "name": "python3"
  },
  "language_info": {
   "codemirror_mode": {
    "name": "ipython",
    "version": 3
   },
   "file_extension": ".py",
   "mimetype": "text/x-python",
   "name": "python",
   "nbconvert_exporter": "python",
   "pygments_lexer": "ipython3",
   "version": "3.11.4"
  }
 },
 "nbformat": 4,
 "nbformat_minor": 5
}
